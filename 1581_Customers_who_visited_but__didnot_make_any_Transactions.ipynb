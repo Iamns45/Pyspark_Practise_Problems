{
  "nbformat": 4,
  "nbformat_minor": 0,
  "metadata": {
    "colab": {
      "provenance": []
    },
    "kernelspec": {
      "name": "python3",
      "display_name": "Python 3"
    },
    "language_info": {
      "name": "python"
    }
  },
  "cells": [
    {
      "cell_type": "code",
      "execution_count": 23,
      "metadata": {
        "id": "_5-5MK7pux4-"
      },
      "outputs": [],
      "source": [
        "from pyspark.sql import SparkSession\n",
        "from pyspark.sql.functions import col\n",
        "from pyspark.sql.functions import count"
      ]
    },
    {
      "cell_type": "code",
      "source": [
        "spark = SparkSession.builder.appName(\"Customer Visits\").getOrCreate()\n",
        "\n",
        "# Define the data\n",
        "data = [\n",
        "    (1, 23),\n",
        "    (2, 9),\n",
        "    (4, 30),\n",
        "    (5, 54),\n",
        "    (6, 96),\n",
        "    (7, 54),\n",
        "    (8, 54)\n",
        "]\n",
        "\n",
        "# Define the schema\n",
        "columns = [\"visit_id\", \"customer_id\"]\n",
        "\n",
        "# Create DataFrame\n",
        "visits_df = spark.createDataFrame(data, schema=columns)\n",
        "\n",
        "# Show the DataFrame\n",
        "print(\"Visits:\")\n",
        "visits_df.show()\n",
        "\n",
        "# Define the data for transactions\n",
        "transactions_data = [\n",
        "    (2, 5, 310),\n",
        "    (3, 5, 300),\n",
        "    (9, 5, 200),\n",
        "    (12, 1, 910),\n",
        "    (13, 2, 970)\n",
        "]\n",
        "\n",
        "# Define the schema for transactions\n",
        "transactions_columns = [\"transaction_id\", \"visit_id\", \"amount\"]\n",
        "\n",
        "# Create DataFrame for transactions\n",
        "transactions_df = spark.createDataFrame(transactions_data, schema=transactions_columns)\n",
        "\n",
        "print(\"Transactions:\")\n",
        "transactions_df.show()\n"
      ],
      "metadata": {
        "colab": {
          "base_uri": "https://localhost:8080/"
        },
        "id": "9GqSige7vGt0",
        "outputId": "28218c37-56f1-42ff-f3e4-0097c5d2e3bd"
      },
      "execution_count": 14,
      "outputs": [
        {
          "output_type": "stream",
          "name": "stdout",
          "text": [
            "Visits:\n",
            "+--------+-----------+\n",
            "|visit_id|customer_id|\n",
            "+--------+-----------+\n",
            "|       1|         23|\n",
            "|       2|          9|\n",
            "|       4|         30|\n",
            "|       5|         54|\n",
            "|       6|         96|\n",
            "|       7|         54|\n",
            "|       8|         54|\n",
            "+--------+-----------+\n",
            "\n",
            "Transactions:\n",
            "+--------------+--------+------+\n",
            "|transaction_id|visit_id|amount|\n",
            "+--------------+--------+------+\n",
            "|             2|       5|   310|\n",
            "|             3|       5|   300|\n",
            "|             9|       5|   200|\n",
            "|            12|       1|   910|\n",
            "|            13|       2|   970|\n",
            "+--------------+--------+------+\n",
            "\n"
          ]
        }
      ]
    },
    {
      "cell_type": "markdown",
      "source": [
        "#Approach-1: Using Left Join"
      ],
      "metadata": {
        "id": "FvDurP_5AtDY"
      }
    },
    {
      "cell_type": "code",
      "source": [
        "joined_df = visits_df.join(transactions_df, \"visit_id\", 'left' )\n",
        "joined_df.show()"
      ],
      "metadata": {
        "colab": {
          "base_uri": "https://localhost:8080/"
        },
        "id": "uHXC0qOc0DN9",
        "outputId": "a996051b-2dcf-443e-864a-a5aee290a09f"
      },
      "execution_count": 26,
      "outputs": [
        {
          "output_type": "stream",
          "name": "stdout",
          "text": [
            "+--------+-----------+--------------+------+\n",
            "|visit_id|customer_id|transaction_id|amount|\n",
            "+--------+-----------+--------------+------+\n",
            "|       1|         23|            12|   910|\n",
            "|       2|          9|            13|   970|\n",
            "|       4|         30|          NULL|  NULL|\n",
            "|       7|         54|          NULL|  NULL|\n",
            "|       6|         96|          NULL|  NULL|\n",
            "|       5|         54|             9|   200|\n",
            "|       5|         54|             3|   300|\n",
            "|       5|         54|             2|   310|\n",
            "|       8|         54|          NULL|  NULL|\n",
            "+--------+-----------+--------------+------+\n",
            "\n"
          ]
        }
      ]
    },
    {
      "cell_type": "code",
      "source": [
        "grouped_df = joined_df.filter(col(\"transaction_id\" ).isNull()) \\\n",
        "                      .groupBy(\"customer_id\") \\\n",
        "                      .agg(count(\"visit_id\").alias(\"count_no_trans\"))\n",
        "grouped_df.show()"
      ],
      "metadata": {
        "colab": {
          "base_uri": "https://localhost:8080/"
        },
        "id": "9A9CxOp9-6v6",
        "outputId": "9626eed7-815b-489f-8ec8-13d0b4d000fb"
      },
      "execution_count": 27,
      "outputs": [
        {
          "output_type": "stream",
          "name": "stdout",
          "text": [
            "+-----------+--------------+\n",
            "|customer_id|count_no_trans|\n",
            "+-----------+--------------+\n",
            "|         54|             2|\n",
            "|         96|             1|\n",
            "|         30|             1|\n",
            "+-----------+--------------+\n",
            "\n"
          ]
        }
      ]
    }
  ]
}