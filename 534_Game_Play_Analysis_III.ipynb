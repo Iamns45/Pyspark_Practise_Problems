{
  "nbformat": 4,
  "nbformat_minor": 0,
  "metadata": {
    "colab": {
      "provenance": []
    },
    "kernelspec": {
      "name": "python3",
      "display_name": "Python 3"
    },
    "language_info": {
      "name": "python"
    }
  },
  "cells": [
    {
      "cell_type": "code",
      "execution_count": 36,
      "metadata": {
        "id": "agS8Jk-4FyZh"
      },
      "outputs": [],
      "source": [
        "from pyspark.sql import SparkSession\n",
        "from pyspark.sql.functions import col,sum\n",
        "from pyspark.sql.window import Window"
      ]
    },
    {
      "cell_type": "code",
      "source": [
        "from pyspark.sql import SparkSession\n",
        "from pyspark.sql.functions import min\n",
        "\n",
        "# Initialize SparkSession\n",
        "spark = SparkSession.builder.appName(\"Create DataFrame Example\").getOrCreate()\n",
        "\n",
        "# Define the data\n",
        "data = [\n",
        "    (1, 2, '2016-03-01', 5),\n",
        "    (1, 2, '2016-05-02', 6),\n",
        "    (1, 3, '2017-06-25', 1),\n",
        "    (3, 1, '2016-03-02', 0),\n",
        "    (3, 4, '2018-07-03', 5)\n",
        "]\n",
        "\n",
        "# Define the schema\n",
        "columns = [\"player_id\", \"device_id\", \"event_date\", \"games_played\"]\n",
        "\n",
        "# Create DataFrame\n",
        "activity_df = spark.createDataFrame(data, schema=columns)\n",
        "\n",
        "# Show the DataFrame\n",
        "activity_df.show()\n"
      ],
      "metadata": {
        "colab": {
          "base_uri": "https://localhost:8080/"
        },
        "id": "qIZ2kYqTF9Xy",
        "outputId": "1894c627-5cfb-44d6-897c-0be3df6a0e31"
      },
      "execution_count": 38,
      "outputs": [
        {
          "output_type": "stream",
          "name": "stdout",
          "text": [
            "+---------+---------+----------+------------+\n",
            "|player_id|device_id|event_date|games_played|\n",
            "+---------+---------+----------+------------+\n",
            "|        1|        2|2016-03-01|           5|\n",
            "|        1|        2|2016-05-02|           6|\n",
            "|        1|        3|2017-06-25|           1|\n",
            "|        3|        1|2016-03-02|           0|\n",
            "|        3|        4|2018-07-03|           5|\n",
            "+---------+---------+----------+------------+\n",
            "\n"
          ]
        }
      ]
    },
    {
      "cell_type": "code",
      "source": [
        "WindowSpec = Window.partitionBy(\"player_id\").orderBy(\"event_date\")\n",
        "agg_df = activity_df.withColumn(\"rank_device\",sum(\"games_played\").over(WindowSpec))\n",
        "agg_df.show()"
      ],
      "metadata": {
        "colab": {
          "base_uri": "https://localhost:8080/"
        },
        "id": "zVtS-XEMGkVD",
        "outputId": "83e1da9c-2e98-4bad-8ebd-635f1e847e58"
      },
      "execution_count": 39,
      "outputs": [
        {
          "output_type": "stream",
          "name": "stdout",
          "text": [
            "+---------+---------+----------+------------+-----------+\n",
            "|player_id|device_id|event_date|games_played|rank_device|\n",
            "+---------+---------+----------+------------+-----------+\n",
            "|        1|        2|2016-03-01|           5|          5|\n",
            "|        1|        2|2016-05-02|           6|         11|\n",
            "|        1|        3|2017-06-25|           1|         12|\n",
            "|        3|        1|2016-03-02|           0|          0|\n",
            "|        3|        4|2018-07-03|           5|          5|\n",
            "+---------+---------+----------+------------+-----------+\n",
            "\n"
          ]
        }
      ]
    }
  ]
}