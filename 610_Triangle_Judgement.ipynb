{
  "nbformat": 4,
  "nbformat_minor": 0,
  "metadata": {
    "colab": {
      "provenance": []
    },
    "kernelspec": {
      "name": "python3",
      "display_name": "Python 3"
    },
    "language_info": {
      "name": "python"
    }
  },
  "cells": [
    {
      "cell_type": "code",
      "execution_count": 8,
      "metadata": {
        "id": "_5-5MK7pux4-"
      },
      "outputs": [],
      "source": [
        "from pyspark.sql import SparkSession\n",
        "from pyspark.sql.functions import col,when"
      ]
    },
    {
      "cell_type": "code",
      "source": [
        "# Initialize SparkSession\n",
        "spark = SparkSession.builder.appName(\"Triangle Validation\").getOrCreate()\n",
        "\n",
        "# Define the data\n",
        "data = [\n",
        "    (13, 15, 30),\n",
        "    (10, 20, 15)\n",
        "]\n",
        "\n",
        "# Define the schema\n",
        "columns = [\"x\", \"y\", \"z\"]\n",
        "\n",
        "# Create DataFrame\n",
        "triangle_df = spark.createDataFrame(data, schema=columns)\n",
        "\n",
        "# Show the DataFrame\n",
        "triangle_df.show()"
      ],
      "metadata": {
        "colab": {
          "base_uri": "https://localhost:8080/"
        },
        "id": "9GqSige7vGt0",
        "outputId": "f7d227ec-798a-4f6b-c33b-27ec7de67310"
      },
      "execution_count": 2,
      "outputs": [
        {
          "output_type": "stream",
          "name": "stdout",
          "text": [
            "+---+---+---+\n",
            "|  x|  y|  z|\n",
            "+---+---+---+\n",
            "| 13| 15| 30|\n",
            "| 10| 20| 15|\n",
            "+---+---+---+\n",
            "\n"
          ]
        }
      ]
    },
    {
      "cell_type": "code",
      "source": [
        "valid_triangle = triangle_df.withColumn(\"triangle\", when((col(\"x\") + col(\"y\") > col(\"z\")) &\n",
        "                                    (col(\"y\") + col(\"z\") > col(\"x\")) &\n",
        "                                    (col(\"x\") + col(\"z\") > col(\"y\")) , \"Yes\") .otherwise(\"No\"))\n",
        "\n",
        "valid_triangle.show()"
      ],
      "metadata": {
        "colab": {
          "base_uri": "https://localhost:8080/"
        },
        "id": "lWQGtfJ9zOWu",
        "outputId": "30a17545-0c07-422f-d963-96290eb7707d"
      },
      "execution_count": 11,
      "outputs": [
        {
          "output_type": "stream",
          "name": "stdout",
          "text": [
            "+---+---+---+--------+\n",
            "|  x|  y|  z|triangle|\n",
            "+---+---+---+--------+\n",
            "| 13| 15| 30|      No|\n",
            "| 10| 20| 15|     Yes|\n",
            "+---+---+---+--------+\n",
            "\n"
          ]
        }
      ]
    },
    {
      "cell_type": "code",
      "source": [],
      "metadata": {
        "id": "uHXC0qOc0DN9"
      },
      "execution_count": null,
      "outputs": []
    }
  ]
}