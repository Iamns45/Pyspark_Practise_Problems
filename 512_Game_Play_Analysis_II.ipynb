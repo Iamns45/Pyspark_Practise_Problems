{
  "nbformat": 4,
  "nbformat_minor": 0,
  "metadata": {
    "colab": {
      "provenance": []
    },
    "kernelspec": {
      "name": "python3",
      "display_name": "Python 3"
    },
    "language_info": {
      "name": "python"
    }
  },
  "cells": [
    {
      "cell_type": "code",
      "execution_count": 29,
      "metadata": {
        "colab": {
          "base_uri": "https://localhost:8080/"
        },
        "id": "agS8Jk-4FyZh",
        "outputId": "784c7d2c-264d-43f7-9067-40e9f1d7a92b"
      },
      "outputs": [
        {
          "output_type": "stream",
          "name": "stdout",
          "text": [
            "Requirement already satisfied: pyspark in /usr/local/lib/python3.10/dist-packages (3.5.1)\n",
            "Requirement already satisfied: py4j==0.10.9.7 in /usr/local/lib/python3.10/dist-packages (from pyspark) (0.10.9.7)\n"
          ]
        }
      ],
      "source": [
        "from pyspark.sql import SparkSession\n",
        "from pyspark.sql.functions import col,rank\n",
        "from pyspark.sql.window import Window"
      ]
    },
    {
      "cell_type": "code",
      "source": [
        "from pyspark.sql import SparkSession\n",
        "from pyspark.sql.functions import min\n",
        "\n",
        "# Initialize SparkSession\n",
        "spark = SparkSession.builder.appName(\"Create DataFrame Example\").getOrCreate()\n",
        "\n",
        "# Define the data\n",
        "data = [\n",
        "    (1, 2, '2016-03-01', 5),\n",
        "    (1, 2, '2016-05-02', 6),\n",
        "    (2, 3, '2017-06-25', 1),\n",
        "    (3, 1, '2016-03-02', 0),\n",
        "    (3, 4, '2018-07-03', 5)\n",
        "]\n",
        "\n",
        "# Define the schema\n",
        "columns = [\"player_id\", \"device_id\", \"event_date\", \"games_played\"]\n",
        "\n",
        "# Create DataFrame\n",
        "activity_df = spark.createDataFrame(data, schema=columns)\n",
        "\n",
        "# Show the DataFrame\n",
        "activity_df.show()\n"
      ],
      "metadata": {
        "colab": {
          "base_uri": "https://localhost:8080/"
        },
        "id": "qIZ2kYqTF9Xy",
        "outputId": "bebe0467-3c1b-4194-9dc0-f25e50aec7b3"
      },
      "execution_count": 30,
      "outputs": [
        {
          "output_type": "stream",
          "name": "stdout",
          "text": [
            "+---------+---------+----------+------------+\n",
            "|player_id|device_id|event_date|games_played|\n",
            "+---------+---------+----------+------------+\n",
            "|        1|        2|2016-03-01|           5|\n",
            "|        1|        2|2016-05-02|           6|\n",
            "|        2|        3|2017-06-25|           1|\n",
            "|        3|        1|2016-03-02|           0|\n",
            "|        3|        4|2018-07-03|           5|\n",
            "+---------+---------+----------+------------+\n",
            "\n"
          ]
        }
      ]
    },
    {
      "cell_type": "code",
      "source": [
        "WindowSpec = Window.partitionBy(\"player_id\").orderBy(\"event_date\")\n",
        "rank_df = activity_df.withColumn(\"rank_device\",rank().over(WindowSpec))\n",
        "rank_df.show()\n",
        "\n"
      ],
      "metadata": {
        "colab": {
          "base_uri": "https://localhost:8080/"
        },
        "id": "zVtS-XEMGkVD",
        "outputId": "daff3f88-880b-4a3e-e756-89cc2d41f3f7"
      },
      "execution_count": 31,
      "outputs": [
        {
          "output_type": "stream",
          "name": "stdout",
          "text": [
            "+---------+---------+----------+------------+-----------+\n",
            "|player_id|device_id|event_date|games_played|rank_device|\n",
            "+---------+---------+----------+------------+-----------+\n",
            "|        1|        2|2016-03-01|           5|          1|\n",
            "|        1|        2|2016-05-02|           6|          2|\n",
            "|        2|        3|2017-06-25|           1|          1|\n",
            "|        3|        1|2016-03-02|           0|          1|\n",
            "|        3|        4|2018-07-03|           5|          2|\n",
            "+---------+---------+----------+------------+-----------+\n",
            "\n"
          ]
        }
      ]
    },
    {
      "cell_type": "code",
      "source": [
        "#to report the device that is first logged in for each player.\n",
        "result_df = rank_df.select(\"player_id\",\"device_id\").filter(rank_df.rank_device == 1)\n",
        "result_df.show()"
      ],
      "metadata": {
        "colab": {
          "base_uri": "https://localhost:8080/"
        },
        "id": "Nv4wX238LbkD",
        "outputId": "b4839e3d-6e49-4e85-c34a-3f84859c71de"
      },
      "execution_count": 34,
      "outputs": [
        {
          "output_type": "stream",
          "name": "stdout",
          "text": [
            "+---------+---------+\n",
            "|player_id|device_id|\n",
            "+---------+---------+\n",
            "|        1|        2|\n",
            "|        2|        3|\n",
            "|        3|        1|\n",
            "+---------+---------+\n",
            "\n"
          ]
        }
      ]
    }
  ]
}