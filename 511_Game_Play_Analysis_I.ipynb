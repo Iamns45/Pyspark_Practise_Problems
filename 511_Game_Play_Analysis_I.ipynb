{
  "cells": [
    {
      "cell_type": "code",
      "execution_count": 18,
      "metadata": {
        "colab": {
          "base_uri": "https://localhost:8080/"
        },
        "id": "agS8Jk-4FyZh",
        "outputId": "c45ea7a2-8cae-47b3-ef10-7393a2e65767"
      },
      "outputs": [
        {
          "name": "stdout",
          "output_type": "stream",
          "text": [
            "Requirement already satisfied: pyspark in /usr/local/lib/python3.10/dist-packages (3.5.1)\n",
            "Requirement already satisfied: py4j==0.10.9.7 in /usr/local/lib/python3.10/dist-packages (from pyspark) (0.10.9.7)\n"
          ]
        }
      ],
      "source": [
        "from pyspark.sql import SparkSession\n",
        "from pyspark.sql.functions import col, min"
      ]
    },
    {
      "cell_type": "code",
      "execution_count": 19,
      "metadata": {
        "colab": {
          "base_uri": "https://localhost:8080/"
        },
        "id": "qIZ2kYqTF9Xy",
        "outputId": "843ee162-2be3-4ca5-c6bf-fce47070ee0c"
      },
      "outputs": [
        {
          "name": "stdout",
          "output_type": "stream",
          "text": [
            "+---------+---------+----------+------------+\n",
            "|player_id|device_id|event_date|games_played|\n",
            "+---------+---------+----------+------------+\n",
            "|        1|        2|2016-03-01|           5|\n",
            "|        1|        2|2016-05-02|           6|\n",
            "|        2|        3|2017-06-25|           1|\n",
            "|        3|        1|2016-03-02|           0|\n",
            "|        3|        4|2018-07-03|           5|\n",
            "+---------+---------+----------+------------+\n",
            "\n"
          ]
        }
      ],
      "source": [
        "# Initialize SparkSession\n",
        "spark = SparkSession.builder.appName(\"Create DataFrame Example\").getOrCreate()\n",
        "\n",
        "# Define the data\n",
        "data = [\n",
        "    (1, 2, '2016-03-01', 5),\n",
        "    (1, 2, '2016-05-02', 6),\n",
        "    (2, 3, '2017-06-25', 1),\n",
        "    (3, 1, '2016-03-02', 0),\n",
        "    (3, 4, '2018-07-03', 5)\n",
        "]\n",
        "\n",
        "# Define the schema\n",
        "columns = [\"player_id\", \"device_id\", \"event_date\", \"games_played\"]\n",
        "\n",
        "# Create DataFrame\n",
        "activity_df = spark.createDataFrame(data, schema=columns)\n",
        "\n",
        "# Show the DataFrame\n",
        "activity_df.show()\n"
      ]
    },
    {
      "cell_type": "code",
      "execution_count": 23,
      "metadata": {
        "colab": {
          "base_uri": "https://localhost:8080/"
        },
        "id": "zVtS-XEMGkVD",
        "outputId": "b00655fb-198f-4dab-b0fd-2f96a9e55f9d"
      },
      "outputs": [
        {
          "name": "stdout",
          "output_type": "stream",
          "text": [
            "+---------+-----------+\n",
            "|player_id|first_login|\n",
            "+---------+-----------+\n",
            "|        1| 2016-03-01|\n",
            "|        2| 2017-06-25|\n",
            "|        3| 2016-03-02|\n",
            "+---------+-----------+\n",
            "\n"
          ]
        }
      ],
      "source": [
        "grouped_df = activity_df.groupBy(\"player_id\").agg(min(col(\"event_date\")).alias(\"first_login\"))\n",
        "grouped_df.show()\n"
      ]
    }
  ],
  "metadata": {
    "colab": {
      "provenance": []
    },
    "kernelspec": {
      "display_name": "Python 3",
      "name": "python3"
    },
    "language_info": {
      "name": "python"
    }
  },
  "nbformat": 4,
  "nbformat_minor": 0
}
