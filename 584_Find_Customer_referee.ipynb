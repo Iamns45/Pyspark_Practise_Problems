{
  "nbformat": 4,
  "nbformat_minor": 0,
  "metadata": {
    "colab": {
      "provenance": []
    },
    "kernelspec": {
      "name": "python3",
      "display_name": "Python 3"
    },
    "language_info": {
      "name": "python"
    }
  },
  "cells": [
    {
      "cell_type": "code",
      "execution_count": 23,
      "metadata": {
        "id": "_5-5MK7pux4-"
      },
      "outputs": [],
      "source": [
        "from pyspark.sql import SparkSession\n",
        "from pyspark.sql.functions import col\n",
        "from pyspark.sql.functions import count"
      ]
    },
    {
      "cell_type": "code",
      "source": [
        "customer_data = [\n",
        "    (1, \"Will\", None),\n",
        "    (2, \"Jane\", None),\n",
        "    (3, \"Alex\", 2),\n",
        "    (4, \"Bill\", None),\n",
        "    (5, \"Zack\", 1),\n",
        "    (6, \"Mark\", 2)\n",
        "]\n",
        "\n",
        "# Define the schema for the Customer table\n",
        "customer_columns = [\"id\", \"name\", \"referee_id\"]\n",
        "\n",
        "# Create DataFrame for the Customer table\n",
        "customer_df = spark.createDataFrame(customer_data, schema=customer_columns)\n",
        "\n",
        "# Show the DataFrame\n",
        "print(\"Customer DataFrame:\")\n",
        "customer_df.show()"
      ],
      "metadata": {
        "colab": {
          "base_uri": "https://localhost:8080/"
        },
        "id": "9GqSige7vGt0",
        "outputId": "c7c53af3-ba65-4ff3-8ce7-27f2dfcbe6f8"
      },
      "execution_count": 28,
      "outputs": [
        {
          "output_type": "stream",
          "name": "stdout",
          "text": [
            "Customer DataFrame:\n",
            "+---+----+----------+\n",
            "| id|name|referee_id|\n",
            "+---+----+----------+\n",
            "|  1|Will|      NULL|\n",
            "|  2|Jane|      NULL|\n",
            "|  3|Alex|         2|\n",
            "|  4|Bill|      NULL|\n",
            "|  5|Zack|         1|\n",
            "|  6|Mark|         2|\n",
            "+---+----+----------+\n",
            "\n"
          ]
        }
      ]
    },
    {
      "cell_type": "code",
      "source": [
        "customer_df.select(\"name\")\\\n",
        "           .filter((col(\"referee_id\") != 2) | col(\"referee_id\").isNull()).show()\n"
      ],
      "metadata": {
        "colab": {
          "base_uri": "https://localhost:8080/"
        },
        "id": "fQEqM5CkD1KW",
        "outputId": "03b97007-1cc6-41cf-f060-d5ea20cd5cb8"
      },
      "execution_count": 32,
      "outputs": [
        {
          "output_type": "stream",
          "name": "stdout",
          "text": [
            "+----+\n",
            "|name|\n",
            "+----+\n",
            "|Will|\n",
            "|Jane|\n",
            "|Bill|\n",
            "|Zack|\n",
            "+----+\n",
            "\n"
          ]
        }
      ]
    }
  ]
}